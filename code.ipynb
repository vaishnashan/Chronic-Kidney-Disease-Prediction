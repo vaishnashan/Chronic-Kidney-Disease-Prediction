{
 "cells": [
  {
   "cell_type": "code",
   "execution_count": null,
   "metadata": {},
   "outputs": [],
   "source": [
    "# Importing necessary libraries\n",
    "import numpy as np         # For numerical computations, especially with arrays and matrices\n",
    "import pandas as pd        # For data manipulation and analysis, working with data in DataFrames\n",
    "import matplotlib.pyplot as plt   # For creating static, animated, and interactive visualizations\n",
    "import seaborn as sns      # For statistical data visualization, built on top of Matplotlib\n"
   ]
  },
  {
   "cell_type": "code",
   "execution_count": null,
   "metadata": {},
   "outputs": [],
   "source": [
    "\n",
    "#The data in Data is a pandas DataFrame.\n",
    "\n",
    "#When you use pd.read_csv(), the data is loaded into a DataFrame structure, which is a tabular data format similar to a table in a database or an Excel spreadsheet\n",
    "# Loading the dataset from a CSV file into a pandas DataFrame\n",
    "Data = pd.read_csv(\"kidney_disease.csv\")\n"
   ]
  },
  {
   "cell_type": "code",
   "execution_count": null,
   "metadata": {},
   "outputs": [],
   "source": [
    "\n",
    "Data\n",
    "Data.head()\n"
   ]
  },
  {
   "cell_type": "code",
   "execution_count": null,
   "metadata": {},
   "outputs": [],
   "source": [
    "Data.tail()\n"
   ]
  },
  {
   "cell_type": "code",
   "execution_count": null,
   "metadata": {},
   "outputs": [],
   "source": [
    "# Checking the dimensions of the dataset (number of rows and columns)\n",
    "Data.shape\n"
   ]
  },
  {
   "cell_type": "code",
   "execution_count": null,
   "metadata": {},
   "outputs": [],
   "source": [
    "\n",
    "# Displaying concise summary of the dataset\n",
    "Data.info()\n"
   ]
  },
  {
   "cell_type": "code",
   "execution_count": null,
   "metadata": {},
   "outputs": [],
   "source": [
    "\n",
    "# Generating summary statistics for numerical columns in the dataset\n",
    "Data.describe()\n"
   ]
  },
  {
   "cell_type": "code",
   "execution_count": null,
   "metadata": {},
   "outputs": [],
   "source": [
    "\n",
    "# Generating summary statistics for all columns (numerical and categorical)\n",
    "Data.describe(include='all')\n"
   ]
  },
  {
   "cell_type": "code",
   "execution_count": null,
   "metadata": {},
   "outputs": [],
   "source": [
    "\n",
    "Data.isnull()\n",
    "Data.isnull().sum()\n"
   ]
  },
  {
   "cell_type": "code",
   "execution_count": null,
   "metadata": {},
   "outputs": [],
   "source": [
    "Data.isnull().any()\n"
   ]
  },
  {
   "cell_type": "code",
   "execution_count": null,
   "metadata": {},
   "outputs": [],
   "source": [
    "Data.columns\n"
   ]
  },
  {
   "cell_type": "code",
   "execution_count": null,
   "metadata": {},
   "outputs": [],
   "source": [
    "Data.head()\n",
    "### Dropping the 'id' column from the dataset\n"
   ]
  },
  {
   "cell_type": "code",
   "execution_count": null,
   "metadata": {},
   "outputs": [],
   "source": [
    "\n",
    "\n",
    "### Explanation:\n",
    "\n",
    "#Data.drop(\"id\", axis=1, inplace=True):\n",
    "\n",
    "#1. \"id\": This specifies the column you want to drop.\n",
    "#2. axis=1: This indicates that you're dropping a column. (If you set axis=0, it would mean dropping a row.)\n",
    "#3. inplace=True: This makes the operation permanent within the existing DataFrame, so the change is applied directly to Data without needing to assign it to a new variable\n",
    "Data.drop(\"id\",axis=1,inplace=True)\n"
   ]
  },
  {
   "cell_type": "code",
   "execution_count": null,
   "metadata": {},
   "outputs": [],
   "source": [
    "Data.head()\n"
   ]
  },
  {
   "cell_type": "code",
   "execution_count": null,
   "metadata": {},
   "outputs": [],
   "source": [
    "Data.describe()"
   ]
  },
  {
   "cell_type": "code",
   "execution_count": null,
   "metadata": {},
   "outputs": [],
   "source": [
    "Data.info()"
   ]
  },
  {
   "cell_type": "code",
   "execution_count": null,
   "metadata": {},
   "outputs": [],
   "source": [
    "Data.columns=[\"age\",\"blood_pressure\",\"spcific_gravity\",\"albumin\",\n",
    "              \"sugar\",\"red_blood_cells\",\"pus_cell\",\"pus_cell_clumps\",\"bacteria\",\n",
    "              \"blood_glucose_random\",\"blood_urea\",\"serum_creatinine\",\n",
    "              \"sodium\",\"potassium\",\"haemoglobin\",\"packed_cell_volume\",\n",
    "              \"white_blood_cell_count\",\"red_blood_cell_count\",\n",
    "              \"hypertension\",\"diabetes_mellitus\",\"coronry_artery_disease\",\n",
    "              \"appetite\",\"peda_edema\",\"anemia\",\"CLASS\"]\n"
   ]
  },
  {
   "cell_type": "code",
   "execution_count": null,
   "metadata": {},
   "outputs": [],
   "source": [
    "Data.head()\n"
   ]
  },
  {
   "cell_type": "code",
   "execution_count": null,
   "metadata": {},
   "outputs": [],
   "source": [
    "Data.info()\n"
   ]
  },
  {
   "cell_type": "code",
   "execution_count": null,
   "metadata": {},
   "outputs": [],
   "source": [
    "# Check columns with only numerical values\n",
    "numerical_columns = Data.select_dtypes(include=['number']).columns\n",
    "print(\"Numerical columns:\", numerical_columns)"
   ]
  },
  {
   "cell_type": "code",
   "execution_count": null,
   "metadata": {},
   "outputs": [],
   "source": [
    "\n",
    "\n",
    "# Identify categorical columns\n",
    "categorical_columns = Data.select_dtypes(include=['object']).columns\n",
    "\n",
    "print(\"Categorical columns:\", categorical_columns)\n"
   ]
  },
  {
   "cell_type": "code",
   "execution_count": null,
   "metadata": {},
   "outputs": [],
   "source": [
    "Data.head(3)\n"
   ]
  },
  {
   "cell_type": "code",
   "execution_count": null,
   "metadata": {},
   "outputs": [],
   "source": [
    "text_columns=[\"packed_cell_volume\",\n",
    "              \"white_blood_cell_count\",\n",
    "              \"red_blood_cell_count\"]\n"
   ]
  },
  {
   "cell_type": "code",
   "execution_count": null,
   "metadata": {},
   "outputs": [],
   "source": [
    "for i in text_columns:\n",
    "    print(f\"{i} : {Data[i].dtype}\")\n"
   ]
  },
  {
   "cell_type": "code",
   "execution_count": null,
   "metadata": {},
   "outputs": [],
   "source": [
    "def convert_text_to_numeric(data,column):\n",
    "    Data[column]=pd.to_numeric(Data[column],errors=\"coerce\")\n",
    "    \n",
    "for column  in text_columns:\n",
    "    convert_text_to_numeric(Data , column)\n",
    "    print(f\"{column}: {Data[column].dtype}\")\n"
   ]
  },
  {
   "cell_type": "code",
   "execution_count": null,
   "metadata": {},
   "outputs": [],
   "source": [
    "Data.info()\n"
   ]
  },
  {
   "cell_type": "code",
   "execution_count": null,
   "metadata": {},
   "outputs": [],
   "source": [
    "Data.isnull().sum()\n"
   ]
  },
  {
   "cell_type": "code",
   "execution_count": null,
   "metadata": {},
   "outputs": [],
   "source": [
    "missing_values=Data.isnull().sum()\n"
   ]
  },
  {
   "cell_type": "code",
   "execution_count": null,
   "metadata": {},
   "outputs": [],
   "source": [
    "\n",
    "missing_values[missing_values>0]\n"
   ]
  },
  {
   "cell_type": "code",
   "execution_count": null,
   "metadata": {},
   "outputs": [],
   "source": [
    "\n",
    "missing_values[missing_values>0].sort_values(ascending=False)\n",
    "\n"
   ]
  },
  {
   "cell_type": "code",
   "execution_count": null,
   "metadata": {},
   "outputs": [],
   "source": [
    "\n",
    "missing_values[missing_values>0].sort_values(ascending=False).head(8)\n"
   ]
  },
  {
   "cell_type": "code",
   "execution_count": null,
   "metadata": {},
   "outputs": [],
   "source": [
    "def mean_values(Data , column):\n",
    "    mean_val= Data[column].mean()\n",
    "    Data[column].fillna(value=mean_val , inplace=True)\n",
    "    \n",
    "#for numbers"
   ]
  },
  {
   "cell_type": "code",
   "execution_count": null,
   "metadata": {},
   "outputs": [],
   "source": [
    "def mode_values( Data, column):\n",
    "    mode_val= Data[column].mode()[0]\n",
    "    Data[column]=Data[column].fillna(mode_val)\n",
    "    \n",
    "#for text"
   ]
  },
  {
   "cell_type": "code",
   "execution_count": null,
   "metadata": {},
   "outputs": [],
   "source": [
    "  \n",
    "Data.columns\n"
   ]
  },
  {
   "cell_type": "code",
   "execution_count": null,
   "metadata": {},
   "outputs": [],
   "source": [
    "num_columns=[ i for i in Data.columns if Data[i].dtype != \"object\"]\n"
   ]
  },
  {
   "cell_type": "code",
   "execution_count": null,
   "metadata": {},
   "outputs": [],
   "source": [
    "\n",
    "for x in num_columns:\n",
    "    mean_values(Data , x)\n",
    "    \n"
   ]
  },
  {
   "cell_type": "code",
   "execution_count": null,
   "metadata": {},
   "outputs": [],
   "source": [
    "\n",
    "categ_columns =[i for i  in Data.columns if Data[i].dtype==\"object\"]\n"
   ]
  },
  {
   "cell_type": "code",
   "execution_count": null,
   "metadata": {},
   "outputs": [],
   "source": [
    "\n",
    "for x in categ_columns :\n",
    "    mode_values(Data , x)\n",
    "\n",
    "\n"
   ]
  },
  {
   "cell_type": "code",
   "execution_count": null,
   "metadata": {},
   "outputs": [],
   "source": [
    "\n",
    "Data.isnull().sum()\n"
   ]
  },
  {
   "cell_type": "code",
   "execution_count": null,
   "metadata": {},
   "outputs": [],
   "source": [
    "Data.head()\n"
   ]
  },
  {
   "cell_type": "code",
   "execution_count": null,
   "metadata": {},
   "outputs": [],
   "source": [
    "print(f\"diabetes_mellitus : {Data[\"diabetes_mellitus\"].unique()}\")\n",
    "\n",
    "print(f\"coronry_artery_disease : {Data[\"coronry_artery_disease\"].unique()}\")\n",
    "print(f\"CLASS : {Data[\"CLASS\"].unique()}\")\n"
   ]
  },
  {
   "cell_type": "code",
   "execution_count": null,
   "metadata": {},
   "outputs": [],
   "source": [
    "Data[\"diabetes_mellitus\"]=Data[\"diabetes_mellitus\"].replace(to_replace={ \" yes\":\"yes\",\n",
    "                                                                          \"\\tno\":\"no\",\n",
    "                                                                          \"\\tyes\":\"yes\"})\n"
   ]
  },
  {
   "cell_type": "code",
   "execution_count": null,
   "metadata": {},
   "outputs": [],
   "source": [
    "\n",
    "Data[\"coronry_artery_disease\"]=Data[\"coronry_artery_disease\"].replace(to_replace={\"\\tno\":\"no\"})\n"
   ]
  },
  {
   "cell_type": "code",
   "execution_count": null,
   "metadata": {},
   "outputs": [],
   "source": [
    "\n",
    "Data[\"CLASS\"]=Data[\"CLASS\"].replace(to_replace={\"ckd\\t\":\"ckd\",\n",
    "                                                \"notckd\":\"not ckd\"})\n"
   ]
  },
  {
   "cell_type": "code",
   "execution_count": null,
   "metadata": {},
   "outputs": [],
   "source": [
    "print(f\"diabetes_mellitus : {Data[\"diabetes_mellitus\"].unique()}\")\n",
    "print(f\"coronry_artery_disease : {Data[\"coronry_artery_disease\"].unique()}\")\n",
    "\n",
    "print(f\"CLASS : {Data[\"CLASS\"].unique()}\")\n"
   ]
  },
  {
   "cell_type": "code",
   "execution_count": null,
   "metadata": {},
   "outputs": [],
   "source": [
    "Data.head()\n"
   ]
  },
  {
   "cell_type": "code",
   "execution_count": null,
   "metadata": {},
   "outputs": [],
   "source": [
    "Data[\"CLASS\"]=Data[\"CLASS\"].map({\"ckd\":1,\n",
    "                                 \"not ckd\":0})\n",
    "\n",
    "Data[\"red_blood_cells\"]=Data[\"red_blood_cells\"].map({\"normal\":1,\n",
    "                                                     \"abnormal\":0})\n",
    "\n",
    "Data[\"pus_cell\"]=Data[\"pus_cell\"].map({\"normal\":1,\n",
    "                                       \"abnormal\":0})\n",
    "\n",
    "Data[\"pus_cell_clumps\"]=Data[\"pus_cell_clumps\"].map({\"present\":1,\n",
    "                                                     \"notpresent\":0})\n",
    "\n",
    "Data[\"bacteria\"]=Data[\"bacteria\"].map({\"present\":1,\n",
    "                                       \"notpresent\":0})\n",
    "\n",
    "Data[\"hypertension\"]=Data[\"hypertension\"].map({\"yes\":1,\n",
    "                                               \"no\":0})\n",
    "\n",
    "Data[\"diabetes_mellitus\"]=Data[\"diabetes_mellitus\"].map({\"yes\":1,\n",
    "                                                         \"no\":0})\n",
    "\n",
    "Data[\"coronry_artery_disease\"]=Data[\"coronry_artery_disease\"].map({\"yes\":1,\n",
    "                                                                   \"no\":0})\n",
    "\n",
    "Data[\"appetite\"]=Data[\"appetite\"].map({\"good\":1,\n",
    "                                       \"poor\":0})\n",
    "\n",
    "Data[\"peda_edema\"]=Data[\"peda_edema\"].map({\"yes\":1,\n",
    "                                           \"no\":0})\n",
    "\n",
    "\n",
    "Data[\"anemia\"]=Data[\"anemia\"].map({\"yes\":1,\n",
    "                                   \"no\":0})\n",
    "                                           \n",
    "\n",
    "            "
   ]
  },
  {
   "cell_type": "code",
   "execution_count": null,
   "metadata": {},
   "outputs": [],
   "source": [
    "                                                       \n",
    "                                                       \n",
    "\n",
    "Data.head()\n"
   ]
  },
  {
   "cell_type": "code",
   "execution_count": null,
   "metadata": {},
   "outputs": [],
   "source": [
    "plt.figure(figsize=(15,8))\n",
    "sns.heatmap(Data.corr() , annot= True ,linewidths=0.5)\n",
    "plt.show()\n"
   ]
  },
  {
   "cell_type": "code",
   "execution_count": null,
   "metadata": {},
   "outputs": [],
   "source": [
    "Data.corr()[\"CLASS\"]\n"
   ]
  },
  {
   "cell_type": "code",
   "execution_count": null,
   "metadata": {},
   "outputs": [],
   "source": [
    "Data[\"CLASS\"].value_counts()\n"
   ]
  },
  {
   "cell_type": "code",
   "execution_count": null,
   "metadata": {},
   "outputs": [],
   "source": [
    "Data[\"CLASS\"].unique()"
   ]
  },
  {
   "cell_type": "code",
   "execution_count": null,
   "metadata": {},
   "outputs": [],
   "source": [
    "from sklearn.model_selection import train_test_split\n"
   ]
  },
  {
   "cell_type": "code",
   "execution_count": null,
   "metadata": {},
   "outputs": [],
   "source": [
    "X=Data.drop(\"CLASS\" , axis=1)\n",
    "Y=Data[\"CLASS\"]\n"
   ]
  },
  {
   "cell_type": "code",
   "execution_count": null,
   "metadata": {},
   "outputs": [],
   "source": [
    "X.head()\n"
   ]
  },
  {
   "cell_type": "code",
   "execution_count": null,
   "metadata": {},
   "outputs": [],
   "source": [
    "Y.head()\n"
   ]
  },
  {
   "cell_type": "code",
   "execution_count": null,
   "metadata": {},
   "outputs": [],
   "source": [
    "xtrain,xtest,ytrain,ytest=train_test_split(X,Y,test_size=0.25,random_state=25)\n"
   ]
  },
  {
   "cell_type": "code",
   "execution_count": null,
   "metadata": {},
   "outputs": [],
   "source": [
    "xtrain.shape\n"
   ]
  },
  {
   "cell_type": "code",
   "execution_count": null,
   "metadata": {},
   "outputs": [],
   "source": [
    "xtest.shape\n"
   ]
  },
  {
   "cell_type": "code",
   "execution_count": null,
   "metadata": {},
   "outputs": [],
   "source": [
    "from sklearn.tree import DecisionTreeClassifier"
   ]
  },
  {
   "cell_type": "code",
   "execution_count": null,
   "metadata": {},
   "outputs": [],
   "source": [
    "Model_DTC=DecisionTreeClassifier()"
   ]
  },
  {
   "cell_type": "code",
   "execution_count": null,
   "metadata": {},
   "outputs": [],
   "source": [
    "Model_DTC.fit(xtrain,ytrain)"
   ]
  },
  {
   "cell_type": "code",
   "execution_count": null,
   "metadata": {},
   "outputs": [],
   "source": [
    "xtest.shape"
   ]
  },
  {
   "cell_type": "code",
   "execution_count": null,
   "metadata": {},
   "outputs": [],
   "source": [
    "prediction=Model_DTC.predict(xtest)"
   ]
  },
  {
   "cell_type": "code",
   "execution_count": null,
   "metadata": {},
   "outputs": [],
   "source": [
    "prediction"
   ]
  },
  {
   "cell_type": "code",
   "execution_count": null,
   "metadata": {},
   "outputs": [],
   "source": [
    "ytest"
   ]
  },
  {
   "cell_type": "code",
   "execution_count": null,
   "metadata": {},
   "outputs": [],
   "source": [
    "from sklearn.metrics import accuracy_score,precision_score,recall_score,f1_score,confusion_matrix"
   ]
  },
  {
   "cell_type": "code",
   "execution_count": null,
   "metadata": {},
   "outputs": [],
   "source": [
    "accuracy_score(ytest,prediction)"
   ]
  },
  {
   "cell_type": "code",
   "execution_count": null,
   "metadata": {},
   "outputs": [],
   "source": [
    "precision_score(ytest,prediction)"
   ]
  },
  {
   "cell_type": "code",
   "execution_count": null,
   "metadata": {},
   "outputs": [],
   "source": [
    "recall_score(ytest,prediction)"
   ]
  },
  {
   "cell_type": "code",
   "execution_count": null,
   "metadata": {},
   "outputs": [],
   "source": [
    "f1_score(ytest,prediction)"
   ]
  },
  {
   "cell_type": "code",
   "execution_count": null,
   "metadata": {},
   "outputs": [],
   "source": [
    "confusion_matrix(ytest,prediction)"
   ]
  },
  {
   "cell_type": "code",
   "execution_count": null,
   "metadata": {},
   "outputs": [],
   "source": [
    "Model_DTC.predict([[1,2,3,2,2,43,2,4,4,2,21,3,2,4,4,2,44,4,2,1,2,3,4,2]])"
   ]
  }
 ],
 "metadata": {
  "kernelspec": {
   "display_name": "Python 3",
   "language": "python",
   "name": "python3"
  },
  "language_info": {
   "codemirror_mode": {
    "name": "ipython",
    "version": 3
   },
   "file_extension": ".py",
   "mimetype": "text/x-python",
   "name": "python",
   "nbconvert_exporter": "python",
   "pygments_lexer": "ipython3",
   "version": "3.12.4"
  }
 },
 "nbformat": 4,
 "nbformat_minor": 2
}
